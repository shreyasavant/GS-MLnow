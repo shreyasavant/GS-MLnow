{
  "nbformat": 4,
  "nbformat_minor": 0,
  "metadata": {
    "colab": {
      "name": "02_EDA.ipynb",
      "provenance": [],
      "mount_file_id": "1fj1xH6xP-Ij_GYEcgFLz24rZWxxCLDdl",
      "authorship_tag": "ABX9TyNxWue+jXqpJ0TBFw9MF+bG"
    },
    "kernelspec": {
      "name": "python3",
      "display_name": "Python 3"
    },
    "language_info": {
      "name": "python"
    }
  },
  "cells": [
    {
      "cell_type": "code",
      "metadata": {
        "colab": {
          "base_uri": "https://localhost:8080/"
        },
        "id": "X3tgOyWpklYC",
        "outputId": "8c1a0ed0-fda7-44b7-d6fd-1e724936c42a"
      },
      "source": [
        "cd '/content/drive/MyDrive/GS-ML/student'"
      ],
      "execution_count": 1,
      "outputs": [
        {
          "output_type": "stream",
          "text": [
            "/content/drive/MyDrive/GS-ML/student\n"
          ],
          "name": "stdout"
        }
      ]
    },
    {
      "cell_type": "code",
      "metadata": {
        "colab": {
          "base_uri": "https://localhost:8080/"
        },
        "id": "LoZC6nqLlvMc",
        "outputId": "81212295-7ae4-4104-f33b-52659c5f9cc9"
      },
      "source": [
        "ls"
      ],
      "execution_count": 2,
      "outputs": [
        {
          "output_type": "stream",
          "text": [
            "student-mat.csv  student-merge.R  student-por.csv  student.txt\n"
          ],
          "name": "stdout"
        }
      ]
    },
    {
      "cell_type": "code",
      "metadata": {
        "id": "TltAKfHMlyz_"
      },
      "source": [
        ""
      ],
      "execution_count": null,
      "outputs": []
    }
  ]
}